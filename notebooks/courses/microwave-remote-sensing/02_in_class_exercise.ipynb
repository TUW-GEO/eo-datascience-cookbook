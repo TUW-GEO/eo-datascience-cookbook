{
 "cells": [
  {
   "cell_type": "markdown",
   "id": "0",
   "metadata": {},
   "source": [
    "# Unit Conversion\n",
    "\n",
    "\n",
    "In this notebook, we are going to have a look at the conversion of units. Sentinel-1 data, and most other SAR data, is usually provided in decibels (dB). In this notebook, we will discover the advantages of displaying SAR data in decibels and why we need to convert the data to a linear scale in order to make meaningful calculations. Let's start with importing some libraries.\n",
    "\n",
    "$$\n",
    "\\text{logarithmic} \\longleftrightarrow \\text{linear}\n",
    "$$\n",
    "$$\n",
    "[\\text{dB}] \\longleftrightarrow [\\text{m}^2 \\cdot \\text{m}^{-2}]\n",
    "$$\n",
    "\n"
   ]
  },
  {
   "cell_type": "code",
   "execution_count": null,
   "id": "1",
   "metadata": {},
   "outputs": [],
   "source": [
    "import matplotlib.pyplot as plt\n",
    "import numpy as np\n",
    "import odc.stac\n",
    "import pystac_client\n",
    "import rioxarray  # noqa: F401\n",
    "import xarray as xr"
   ]
  },
  {
   "cell_type": "markdown",
   "id": "2",
   "metadata": {},
   "source": [
    "## Exploring the Data\n",
    "\n",
    "Let's start by loading some sample data, in order to demonstrate why this conversion is important.\n",
    "Here we will have a look at some SAR data from the Sentinel-1. The data is provided in decibels (dB).\n",
    "In the following example, we will:\n",
    "\n",
    "- load data from Sentinel-1\n",
    "- visualize the data in logarithmic scale\n",
    "- compare the data with linear scale\n",
    "\n",
    "## Search for some Data\n",
    "\n",
    "Now, we start by loading data from Sentinel-1 from the EODC STAC Catalogue. We do this in the same way as in the previous notebook \"Discover and Read SAR Data\".\n"
   ]
  },
  {
   "cell_type": "code",
   "execution_count": null,
   "id": "3",
   "metadata": {},
   "outputs": [],
   "source": [
    "latmin, latmax = 48, 48.5\n",
    "lonmin, lonmax = 16, 17\n",
    "bounds = (lonmin, latmin, lonmax, latmax)\n",
    "\n",
    "time_range = \"2022-07-01/2022-07-31\"\n",
    "\n",
    "items = (\n",
    "    pystac_client.Client.open(\"https://stac.eodc.eu/api/v1\")\n",
    "    .search(\n",
    "        bbox=bounds,\n",
    "        collections=[\"SENTINEL1_SIG0_20M\"],\n",
    "        datetime=time_range,\n",
    "        limit=100,\n",
    "    )\n",
    "    .item_collection()\n",
    ")\n",
    "\n",
    "print(len(items), \"scenes found\")"
   ]
  },
  {
   "cell_type": "code",
   "execution_count": null,
   "id": "4",
   "metadata": {},
   "outputs": [],
   "source": [
    "bands = \"VV\"\n",
    "crs = \"EPSG:27704\"  # Coordinate Reference System: EQUI7 Grid of Europe\n",
    "res = 20  # 20 meter\n",
    "\n",
    "sig0_dc = odc.stac.stac_load(\n",
    "    items,\n",
    "    bands=bands,\n",
    "    bbox=bounds,\n",
    "    chunks={\"time\": 5, \"x\": 600, \"y\": 600},\n",
    ")\n",
    "\n",
    "nodata = items[0].assets[\"VV\"].extra_fields[\"raster:bands\"][0][\"nodata\"]\n",
    "scale = items[0].assets[\"VV\"].extra_fields[\"raster:bands\"][0][\"scale\"]\n",
    "\n",
    "sig0_dc = (sig0_dc.where(sig0_dc != nodata) / scale).VV\n",
    "sig0_dc"
   ]
  },
  {
   "cell_type": "markdown",
   "id": "5",
   "metadata": {},
   "source": [
    "## Comparison of the Data in dB and Linear Scale\n",
    "\n",
    "In the next two cells we will select a subset of the data. This is done to reduce the amount of data we are working with. The precise workflow is not important for now, since the theory is explained after the cells. They are just here to show the data we are working with.\n"
   ]
  },
  {
   "cell_type": "code",
   "execution_count": null,
   "id": "6",
   "metadata": {},
   "outputs": [],
   "source": [
    "subset = sig0_dc.sel(time=slice(\"2022-07-01\", \"2022-07-07\"))\n",
    "subset = subset.dropna(\"time\", how=\"all\")"
   ]
  },
  {
   "cell_type": "markdown",
   "id": "7",
   "metadata": {},
   "source": [
    "Now plot the data.\n"
   ]
  },
  {
   "cell_type": "code",
   "execution_count": null,
   "id": "8",
   "metadata": {},
   "outputs": [],
   "source": [
    "aoi = subset.isel(time=0, x=slice(0, 500), y=slice(0, 500))\n",
    "aoi_lin = 10 ** (aoi / 10)\n",
    "\n",
    "fig, ax = plt.subplots(2, 3, figsize=(14, 8))\n",
    "# upper left\n",
    "ax_ul = ax[0, 0]\n",
    "aoi.plot.imshow(robust=True, ax=ax_ul, cmap=\"Greys_r\")\n",
    "ax_ul.set_title(r\"$\\sigma^0$ [$dB$] (robust plot)\")\n",
    "ax_ul.axes.set_aspect(\"equal\")\n",
    "\n",
    "# upper middle\n",
    "ax_um = ax[0, 1]\n",
    "aoi.plot.imshow(robust=False, ax=ax_um, cmap=\"Greys_r\")\n",
    "ax_um.set_title(r\"$\\sigma^0$ [$dB$] (not robust plot)\")\n",
    "ax_um.axes.set_aspect(\"equal\")\n",
    "\n",
    "# upper right\n",
    "ax_ur = ax[0, 2]\n",
    "aoi.plot.hist(bins=50, ax=ax_ur, edgecolor=\"black\")\n",
    "ax_ur.set_xlabel(r\"$\\sigma^0$ [$dB$]\")\n",
    "ax_ur.set_title(r\"$\\sigma^0$ [$dB$] distribution\")\n",
    "ax_ur.set_ylabel(\"n (number of pixels)\")\n",
    "\n",
    "# lower left\n",
    "ax_ll = ax[1, 0]\n",
    "aoi_lin.plot.imshow(robust=True, ax=ax_ll, cmap=\"Greys_r\")\n",
    "ax_ll.set_title(r\"$\\sigma^0$ [$m^2 \\cdot m^{-2}$] (robust plot)\")\n",
    "ax_ll.axes.set_aspect(\"equal\")\n",
    "\n",
    "# lower middle\n",
    "ax_lm = ax[1, 1]\n",
    "aoi_lin.plot.imshow(robust=False, ax=ax_lm, cmap=\"Greys_r\")\n",
    "ax_lm.set_title(r\"$\\sigma^0$ [$m^2 \\cdot m^{-2}$] (not robust plot)\")\n",
    "ax_lm.axes.set_aspect(\"equal\")\n",
    "\n",
    "# lower right\n",
    "ax_lr = ax[1, 2]\n",
    "aoi_lin.plot.hist(bins=50, ax=ax_lr, edgecolor=\"black\")\n",
    "ax_lr.set_xlabel(r\"$\\sigma^0$ [$m^2 \\cdot m^{-2}$]\")\n",
    "ax_lr.set_ylabel(\"n (number of pixels)\")\n",
    "ax_lr.set_title(r\"$\\sigma^0$ [$m^2 \\cdot m^{-2}$] distribution\")\n",
    "\n",
    "title = (\n",
    "    r\"Sentinel-1 backscatter $\\sigma^0$ comparison\"\n",
    "    + r\" in linear and logarithmic domain\"\n",
    ")\n",
    "fig.suptitle(title, horizontalalignment=\"center\")\n",
    "plt.tight_layout()"
   ]
  },
  {
   "cell_type": "markdown",
   "id": "9",
   "metadata": {},
   "source": [
    "*Figure 1: Visually comparing $\\sigma^0$ on a logarithmic and linear scale (left column). In addition, the benefit of using the robust plotting method is shown (middle column). The robust argument uses the 2<sup>nd</sup> and 98<sup>th</sup> percentiles of the data to compute the color limits to eliminate washing out the plot due to data outliers.*\n",
    "\n",
    "In the plot above you can see the difference between the two scales. The values in dB are more evenly distributed and are therefore easier to plot. The values in linear scale are more spread out and are therefore harder to interpret.\n",
    "This is why we use the dB scale for plotting/visualization.\n",
    "\n",
    "While the logarithmic scale facilitates visual interpretation, it has implications for mathematical operations. In the following, we'll have a closer look at this. But first, let's see how we can convert between the linear and the logarithmic domains.\n",
    "\n",
    "## Conversion Formulas\n",
    "\n",
    "The decibel (dB) is a logarithmic unit used to express the ratio of two values of a physical quantity, often power or intensity. In the case of SAR data, the backscatter coefficient is often expressed in dB to facilitate visualization.\n",
    "\n",
    "In order to convert the data from dB to linear scale, we use the following formula.\n",
    "Let $D$ be the original value (dB) and $I$ the converted value ($m^2m^{-2}$). The conversion of units can be expressed as:\n",
    "$$\n",
    "D =  10  \\cdot \\log_{10} (I) = 10 \\cdot \\log_{10} (e) \\cdot \\ln (I)\\longrightarrow [dB]\n",
    "$$\n",
    "Similarly, the conversion back to the original unit can be expressed as:\n",
    "$$\n",
    "I = e^{\\frac{D}{10\\cdot \\log_{10}(e)}} = 10^{\\frac{D}{10}} \\longrightarrow [m^2m^{-2}]\n",
    "$$\n",
    "You can find these formulas in the script for `Microwave Remote Sensing` on ``page 136 (equation 6.40)``.\n",
    "\n",
    "Now let's implement the conversion in Python.\n"
   ]
  },
  {
   "cell_type": "code",
   "execution_count": null,
   "id": "10",
   "metadata": {},
   "outputs": [],
   "source": [
    "def lin2db(val: float | int) -> float:\n",
    "    \"\"\"\n",
    "    Converts value from linear to dB units.\n",
    "\n",
    "    :param val: Value in linear units.\n",
    "    :type val: float|int\n",
    "    :return: Value in dB.\n",
    "    :rtype: float\n",
    "    \"\"\"\n",
    "    return 10 * np.log10(val)\n",
    "\n",
    "\n",
    "def db2lin(val: float | int) -> float:\n",
    "    \"\"\"\n",
    "    Converts value from dB to linear units.\n",
    "\n",
    "    :param val: Value in dB.\n",
    "    :type val: float|int\n",
    "    :return: Value in linear units.\n",
    "    :rtype: float\n",
    "    \"\"\"\n",
    "    return 10 ** (val / 10)"
   ]
  },
  {
   "cell_type": "markdown",
   "id": "11",
   "metadata": {},
   "source": [
    "When performing mathematical operations with SAR data it is important to be aware, that adding values in the logarithmic scale doesn't work in the same way as adding regular (linear) values. This is because in the logarithmic scale, each unit step represents an equal multiplication. This means that an addition of two values in the logarithmic scale equals a multiplication of the values in the linear scale. Vice versa, a subtraction in a logarithmic scale equals a division in a linear scale. Let's have a look at an example, where we add two values, once without the conversion to linear scale and once with the conversion to linear scale.\n"
   ]
  },
  {
   "cell_type": "code",
   "execution_count": null,
   "id": "12",
   "metadata": {},
   "outputs": [],
   "source": [
    "# Logarithmic addition\n",
    "# Values in linear and decibel units\n",
    "val1_db, val2_db = 10, 12\n",
    "\n",
    "# Logarithmic addition\n",
    "sum_db = val1_db + val2_db\n",
    "print(\"Logarithmic Addition:\")\n",
    "print(f\"Logarithmic values: \\t{val1_db: <5}, {val2_db: <5} [dB]\")\n",
    "print(f\"Logarithmic sum: \\t{val1_db} + {val2_db} = {sum_db: <5} [dB]\")\n",
    "\n",
    "# Linear addition\n",
    "val1_lin, val2_lin = db2lin(val1_db), db2lin(val2_db)\n",
    "sum_lin = val1_lin + val2_lin\n",
    "print(\"\\nLinear Addition:\")\n",
    "print(\n",
    "    f\"\"\"Linear values: \\t\\t{val1_lin: <5}, {val2_lin: <5.2f} [lin]\n",
    "      \\t\\t\\t(converted from dB)\"\"\"\n",
    ")\n",
    "print(f\"Linear sum: \\t\\t{val1_lin} + {val2_lin: .2f} = {sum_lin: .2f} [lin]\")\n",
    "print(f\"\\t\\t\\t= {lin2db(sum_lin): .2f} [dB]\")"
   ]
  },
  {
   "cell_type": "markdown",
   "id": "13",
   "metadata": {},
   "source": [
    "As you can see, the values in dB and in linear scale differ quite a bit. In the example above, the values differ by a factor of around 6 when looked at in linear scale.\n",
    "\n",
    "Now that we have some data, we will have a look at some practical examples where we will convert the data to linear scale.\n",
    "When we try to calculate the average $\\sigma^0$ value across the scene, we need to do this by converting the data to linear scale first and then calculating the average and converting it back to dB.\n",
    "\n",
    "## Creating a Monthly Mosaic\n",
    "\n",
    "So in the beginning we have lazily loaded data for an area across a whole year. We therefore have around 700 images. We will now essentially compress the data of each month into one timestamp. This is done by using the ``resampling`` method together with an operation method like ``mean`` that includes summation. Since the data is in dB we need to convert it to linear scale first, then we can resample the data and convert it back to dB.\n"
   ]
  },
  {
   "cell_type": "code",
   "execution_count": null,
   "id": "14",
   "metadata": {},
   "outputs": [],
   "source": [
    "# Convert to linear scale and calculate monthly means\n",
    "# Conversion by calculating with the xarray Object\n",
    "sig0_lin = 10 ** (sig0_dc / 10)\n",
    "\n",
    "# Resample to monthly means. Time accepts intervals identical to the pandas\n",
    "# resample function. 'D' for days, 'W' for weeks, 'ME' for months.\n",
    "sig0_lin_monthly = sig0_lin.resample(time=\"1ME\").mean()\n",
    "\n",
    "# Convert back to dB scale\n",
    "# Conversion by applying a function\n",
    "sig0_monthly = lin2db(sig0_lin_monthly)\n",
    "sig0_monthly"
   ]
  },
  {
   "cell_type": "markdown",
   "id": "15",
   "metadata": {},
   "source": [
    "The dataset has now only 12 timestamps, one for each month. Next, we want to calculate the average $\\sigma^0$ value across the scene for one month. We will do this again by converting the data to linear scale first and then calculating the average and converting it back to dB.\n"
   ]
  },
  {
   "cell_type": "code",
   "execution_count": null,
   "id": "16",
   "metadata": {},
   "outputs": [],
   "source": [
    "# Lets take a data array with db values\n",
    "db_array = sig0_monthly.sel(time=\"2022-07-30\", method=\"nearest\")\n",
    "\n",
    "# Compute the linear values\n",
    "lin_array = db2lin(db_array)"
   ]
  },
  {
   "cell_type": "code",
   "execution_count": null,
   "id": "17",
   "metadata": {},
   "outputs": [],
   "source": [
    "# Compute the average backscatter value in linear units across the whole scene\n",
    "lin_mean = lin_array.mean()\n",
    "print(f\"Average backscatter value in linear units: {lin_mean.values: .3f}\")\n",
    "db_from_lin_mean = lin2db(lin_mean)\n",
    "print(f\"That value in dB: {db_from_lin_mean.values: .3f}\\n\")\n",
    "\n",
    "# Compute the average backscatter value in dB across the whole scene\n",
    "db_mean = db_array.mean()\n",
    "print(f\"Average backscatter value in dB: {db_mean.values: .3f}\")"
   ]
  },
  {
   "cell_type": "markdown",
   "id": "18",
   "metadata": {},
   "source": [
    "As you can see in the example, the mean values across the scene are different in dB and linear scale. Therefore, it is important to be aware in which scale the data is stored to perform the correct type of mathematical operation or always convert the data to linear scale before doing any calculations.\n",
    "\n",
    "## Save Mean Mosaic as Tif File\n",
    "\n",
    "Often we want to store the output of a computation permanently on a file system. The most common file format for this is a GeoTIFF (TIF file with additional information on the georeference). The following cell indicates how this can be easily done with Xarray. When we want to store the data as a GeoTIFF we need to make sure to provide a spatial reference to geolocate the data. The best way to check whether the Xarray has a coordinate reference system (CRS) is by using the rioxarray `rio.crs` accessor. More about this in notebook \"Datacubes\".\n"
   ]
  },
  {
   "cell_type": "code",
   "execution_count": null,
   "id": "19",
   "metadata": {},
   "outputs": [],
   "source": [
    "# Select some data which we want to save\n",
    "data_2_save = sig0_monthly.sel(time=\"2022-07-30\", method=\"nearest\")\n",
    "data_2_save.rio.crs"
   ]
  },
  {
   "cell_type": "markdown",
   "id": "20",
   "metadata": {},
   "source": [
    "In this case, the spatial reference is the EPSG Code `EPSG:27704`, which is the `Equi7Grid Europe`.\n",
    "As the output data array already has a spatial reference we now save it as a raster file\n"
   ]
  },
  {
   "cell_type": "code",
   "execution_count": null,
   "id": "21",
   "metadata": {},
   "outputs": [],
   "source": [
    "# Save the data\n",
    "data_2_save.rio.to_raster(\n",
    "    \"sig0_mean_mosaic_july.tif\", tiled=True, driver=\"GTiff\", compress=\"LZW\"\n",
    ")"
   ]
  },
  {
   "cell_type": "code",
   "execution_count": null,
   "id": "22",
   "metadata": {},
   "outputs": [],
   "source": [
    "# Load the data again (for demonstration purposes)\n",
    "loaded_data = xr.open_dataset(\"sig0_mean_mosaic_july.tif\", engine=\"rasterio\")\n",
    "loaded_data"
   ]
  }
 ],
 "metadata": {
  "kernelspec": {
   "display_name": "Python 3 (ipykernel)",
   "language": "python",
   "name": "python3"
  },
  "language_info": {
   "codemirror_mode": {
    "name": "ipython",
    "version": 3
   },
   "file_extension": ".py",
   "mimetype": "text/x-python",
   "name": "python",
   "nbconvert_exporter": "python",
   "pygments_lexer": "ipython3",
   "version": "3.11.11"
  }
 },
 "nbformat": 4,
 "nbformat_minor": 5
}

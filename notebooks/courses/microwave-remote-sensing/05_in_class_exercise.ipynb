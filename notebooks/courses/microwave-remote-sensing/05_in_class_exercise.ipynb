{
 "cells": [
  {
   "cell_type": "markdown",
   "id": "0",
   "metadata": {},
   "source": [
    "# Wavelength and Polarization\n",
    "\n",
    "\n",
    "\n",
    "In this notebook, we aim to demonstrate how C-band (4–8 GHz, wavelengths of approximately 3.75–7.5 cm) and L-band (1–2 GHz, wavelengths of approximately 15–30 cm) radio frequencies differ for different land covers and times of the year. In addition, we'll look at co- and cross-polarized backscattering:\n",
    "\n",
    "+ Sentinel-1 (C-band)\n",
    "    + VV\n",
    "    + VH\n",
    "+ Alos-2 (L-band):\n",
    "    + HH\n",
    "    + HV\n",
    "\n"
   ]
  },
  {
   "cell_type": "code",
   "execution_count": null,
   "id": "1",
   "metadata": {},
   "outputs": [],
   "source": [
    "import holoviews as hv\n",
    "import hvplot.xarray  # noqa: F401\n",
    "import intake\n",
    "import matplotlib.pyplot as plt\n",
    "import numpy as np"
   ]
  },
  {
   "cell_type": "markdown",
   "id": "2",
   "metadata": {},
   "source": [
    "## Data Loading\n",
    "\n",
    "We load the data again with the help of `intake`.\n"
   ]
  },
  {
   "cell_type": "code",
   "execution_count": null,
   "id": "3",
   "metadata": {},
   "outputs": [],
   "source": [
    "url = \"https://huggingface.co/datasets/martinschobben/microwave-remote-sensing/resolve/main/microwave-remote-sensing.yml\"\n",
    "cat = intake.open_catalog(url)\n",
    "fused_ds = cat.fused.read()\n",
    "fused_ds"
   ]
  },
  {
   "cell_type": "markdown",
   "id": "4",
   "metadata": {},
   "source": [
    "The loaded data contains the Leaf Area Index (LAI), which is used as an estimate of foliage cover of forest canopies. So high LAI is interpreted as forested area, whereas low values account for less vegetated areas (shrubs, grass-land, and crops).\n",
    "\n",
    "First we'll have a look at the mean and standard deviation of LAI over all timeslices. This can be achieved by using the `mean` and `std` methods of the `xarray` object and by supplying a dimension over which these aggregating operations will be applied. We use the dimension \"time\", thereby flattening the cube to a 2-D array with dimensions x and y.\n"
   ]
  },
  {
   "cell_type": "code",
   "execution_count": null,
   "id": "5",
   "metadata": {},
   "outputs": [],
   "source": [
    "fig, ax = plt.subplots(1, 2, figsize=(15, 6))\n",
    "\n",
    "LAI_dc = fused_ds.LAI\n",
    "LAI_mean = LAI_dc.mean(\"time\")\n",
    "LAI_std = LAI_dc.std(\"time\")\n",
    "\n",
    "LAI_mean.plot(ax=ax[0], vmin=0, vmax=6).axes.set_aspect(\"equal\")\n",
    "LAI_std.plot(ax=ax[1], vmin=0, vmax=3).axes.set_aspect(\"equal\")\n",
    "plt.tight_layout()"
   ]
  },
  {
   "cell_type": "markdown",
   "id": "6",
   "metadata": {},
   "source": [
    "*Figure 1: Map of mean LAI (left) and the associated standard deviation (right) for each pixel over time around Lake Garda.*\n",
    "\n",
    "It appears that the northern parts of our study area contain more and variable amounts of green elements per unit area. This might indicate a more complete coverage of foliage and thus forest.\n",
    "\n",
    "## Timeseries\n",
    "\n",
    "Now that we have detected possible forested areas, let's delve a bit deeper into the data. Remember that we deal with a spatiotemporal datacube. This gives us the possibility to study changes for each time increment. Hence we can show what happens to LAI for areas marked with generally low values as well as high values. We can achieve this by filtering the datacube with the `where` method for areas marked with low and high mean LAI values. In turn we will aggregate the remaining datacube over the spatial dimensions (\"x\" and \"y\") to get a mean values for each time increment.\n"
   ]
  },
  {
   "cell_type": "code",
   "execution_count": null,
   "id": "7",
   "metadata": {},
   "outputs": [],
   "source": [
    "fig, ax = plt.subplots(1, 2, figsize=(15, 4))\n",
    "\n",
    "LAI_low = LAI_dc.where(LAI_mean < 4)\n",
    "LAI_high = LAI_dc.where(LAI_mean > 4)\n",
    "\n",
    "LAI_low.mean([\"x\", \"y\"]).plot.scatter(x=\"time\", ax=ax[0], ylim=(0, 6))\n",
    "LAI_high.mean([\"x\", \"y\"]).plot.scatter(x=\"time\", ax=ax[1], ylim=(0, 6))\n",
    "ax[0].set_title(\"Low Mean LAI ($\\\\bar{LAI} < 4$)\")\n",
    "ax[1].set_title(\"High Mean LAI ($\\\\bar{LAI} > 4$)\")\n",
    "plt.tight_layout()"
   ]
  },
  {
   "cell_type": "markdown",
   "id": "8",
   "metadata": {},
   "source": [
    "*Figure 2: Timeseries of mean LAI per timeslice for areas with low (left) and high (right) mean LAI of Figure1.*\n",
    "\n",
    "Now we can see that areas with high mean LAI values (Figure 1) show a drop-off to values as low as those for areas with low mean LAI during the autumn months (Figure 2 ; right panel). Hence we might deduce that we deal with deciduous forest that becomes less green during autumn, as can be expected for the study area.\n",
    "\n",
    "Remember that longer wavelengths like L-bands are more likely to penetrate through a forest canopy and would interact more readily with larger object like tree trunks and the forest floor. In turn, C-band microwaves are more likely to interact with sparse and shrub vegetation. The polarization of the emitted and received microwaves is on the other hand dependent on the type of backscattering with co-polarization (HH and VV) happening more frequently with direct backscatter or double bounce scattering. Whereas volume scattering occurs when the radar signal is subject to multiple reflections within 3-dimensional matter, as the orientation of the main scatterers is random, the polarization of the backscattered signal is also random. Volume scattering can therefore cause an increase of cross-polarized intensity.\n",
    "\n",
    "Let's put this to the test by checking the microwave backscatter signatures over forested and sparsely vegetated areas as well as water bodies (Lake Garda). Let's first look at the different sensor readings for the beginning of summer and autumn.\n"
   ]
  },
  {
   "cell_type": "code",
   "execution_count": null,
   "id": "9",
   "metadata": {},
   "outputs": [],
   "source": [
    "hv.output(widget_location=\"bottom\")\n",
    "\n",
    "t1 = (\n",
    "    fused_ds.gam0.isel(time=2)\n",
    "    .hvplot.image(\n",
    "        robust=True, data_aspect=1, cmap=\"Greys_r\", rasterize=True, clim=(-25, 0)\n",
    "    )\n",
    "    .opts(frame_height=400, aspect=\"equal\")\n",
    ")\n",
    "\n",
    "t2 = (\n",
    "    fused_ds.gam0.isel(time=-1)\n",
    "    .hvplot.image(\n",
    "        robust=True, data_aspect=1, cmap=\"Greys_r\", rasterize=True, clim=(-25, 0)\n",
    "    )\n",
    "    .opts(frame_height=400, aspect=\"equal\")\n",
    ")\n",
    "\n",
    "t1 + t2"
   ]
  },
  {
   "cell_type": "markdown",
   "id": "10",
   "metadata": {},
   "source": [
    "*Figure 3: Maps of Sentinel-1 and Alos-2 $\\gamma^0_T \\,[dB]$ for the beginning of summer (left) and autumn (right).*\n",
    "\n",
    "The most notable difference is the lower energy received for cross-polarized than for co-polarized microwaves for both Sentinel-1 and Alos-2. The latter differences are independent of the time of year. However, one can also note small changes in the received energy for the same satellite dependent on the time of year. To get a better feel for these changes over time we generate the following interactive plot. On the following plot one can select areas of a certain mean LAI (by clicking on the map) and see the associated timeseries of $\\gamma^0_T$ for each of the sensors.\n"
   ]
  },
  {
   "cell_type": "code",
   "execution_count": null,
   "id": "11",
   "metadata": {},
   "outputs": [],
   "source": [
    "LAI_image = LAI_mean.hvplot.image(rasterize=True, cmap=\"viridis\", clim=(0, 6)).opts(\n",
    "    title=\"Mean LAI (Selectable)\", frame_height=400, aspect=\"equal\"\n",
    ")\n",
    "\n",
    "\n",
    "def get_timeseries(x, y):\n",
    "    \"\"\"\n",
    "    Callback Function Holoviews\n",
    "\n",
    "    Parameters\n",
    "    ----------\n",
    "    x: float\n",
    "        numeric value for x selected on LAI map\n",
    "    y: float\n",
    "        numeric value for y selected on LAI map\n",
    "    \"\"\"\n",
    "\n",
    "    lai_value = LAI_mean.sel(x=x, y=y, method=\"nearest\").values\n",
    "\n",
    "    if np.isnan(lai_value):\n",
    "        select = fused_ds.where(LAI_mean.isnull())\n",
    "        label = \"Water\"\n",
    "    else:\n",
    "        mask = np.isclose(LAI_mean, lai_value, atol=0.05)\n",
    "        select = fused_ds.where(mask)\n",
    "        label = \"Mean LAI: \" + str(np.round(lai_value, 1))\n",
    "\n",
    "    time_series = (\n",
    "        select.gam0.to_dataset(\"sensor\")\n",
    "        .median([\"x\", \"y\"], skipna=True)\n",
    "        .hvplot.scatter(ylim=(-30, 5))\n",
    "        .opts(title=label, frame_height=400)\n",
    "    )\n",
    "\n",
    "    return time_series\n",
    "\n",
    "\n",
    "point_stream = hv.streams.SingleTap(source=LAI_image)\n",
    "time_series = hv.DynamicMap(get_timeseries, streams=[point_stream])\n",
    "LAI_image + time_series"
   ]
  },
  {
   "cell_type": "markdown",
   "id": "12",
   "metadata": {},
   "source": [
    "*Figure 4: Map of MEAN LAI around Lake Garda. The pixel values can be seen by hovering your mouse over the pixels. Clicking on the pixel will generate the timeseries for the associated mean LAI on the right hand-side. (Right) Timeseries of for Sentinel-1 and Alos-2 $\\gamma^0_T [dB]$.*\n",
    "\n",
    "Can you see some patterns when analyzing the different wavelengths and polarizations?\n",
    "\n",
    "Remember again that we deal with a logarithmic scale. A measurement of 10 dB is 10 times brighter than the intensity measured at 0 dB, and 100 times brighter at 20 dB. The most notable difference is that the offset between cross- and co-polarised signals becomes larger at low LAI and lower at higher LAI. This might indicate the effect of volume scattering in forested areas where co- and cross-polarization render backscattering values more equal. You will study the differences among cross- and co-polarized backscattering in more detail in the homework exercise."
   ]
  }
 ],
 "metadata": {
  "kernelspec": {
   "display_name": "Python 3 (ipykernel)",
   "language": "python",
   "name": "python3"
  },
  "language_info": {
   "codemirror_mode": {
    "name": "ipython",
    "version": 3
   },
   "file_extension": ".py",
   "mimetype": "text/x-python",
   "name": "python",
   "nbconvert_exporter": "python",
   "pygments_lexer": "ipython3",
   "version": "3.11.11"
  }
 },
 "nbformat": 4,
 "nbformat_minor": 5
}
